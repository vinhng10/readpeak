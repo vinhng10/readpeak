{
 "cells": [
  {
   "cell_type": "markdown",
   "metadata": {},
   "source": [
    "# Data Scientist Assignment\n"
   ]
  },
  {
   "cell_type": "markdown",
   "metadata": {},
   "source": [
    "In this task, you will work with a sample dataset containing ad impression and click data.\n",
    "\n",
    "The primary objective of this assignment is to analyze the data, derive meaningful insights, and build predictive models based on the patterns you uncover, to ultimatly improve click prediction.\n"
   ]
  },
  {
   "cell_type": "markdown",
   "metadata": {},
   "source": [
    "# 0. Data Description\n"
   ]
  },
  {
   "cell_type": "markdown",
   "metadata": {},
   "source": [
    "The dataset provided has been undersampled to ensure that clicks represent 5% of the total data, as opposed to the original 0.4%. It consists of one week of advertising data from Finland where one row represents an ad impression (view). The data includes the following features:\n",
    "\n",
    "- Label: A binary feature indicating whether the ad was clicked (1) or not (0).\n",
    "- art: The ad ID.\n",
    "- loc: The site ID, representing the website where the ad appeared.\n",
    "- tag: The placement ID assigned by the site to indicate the ad slot on the site where the ad was shown.\n",
    "- dt: The device type on which the ad was displayed (mobile, tablet, or desktop).\n",
    "- type: The type of advertisement, either banner or native.\n",
    "- os: The operating system of the device.\n",
    "- lt: The local time when the ad was displayed.\n",
    "- make: The make (manufacturer) of the device.\n",
    "- client: The client ID representing the advertiser.\n",
    "- lang: The language of the browser.\n",
    "- cl: The number of clicks the ad has received.\n"
   ]
  },
  {
   "cell_type": "markdown",
   "metadata": {},
   "source": [
    "## 1. Loading the data & exploration\n"
   ]
  },
  {
   "cell_type": "code",
   "execution_count": 52,
   "metadata": {},
   "outputs": [
    {
     "name": "stdout",
     "output_type": "stream",
     "text": [
      "The autoreload extension is already loaded. To reload it, use:\n",
      "  %reload_ext autoreload\n"
     ]
    },
    {
     "data": {
      "text/html": [
       "<div>\n",
       "<style scoped>\n",
       "    .dataframe tbody tr th:only-of-type {\n",
       "        vertical-align: middle;\n",
       "    }\n",
       "\n",
       "    .dataframe tbody tr th {\n",
       "        vertical-align: top;\n",
       "    }\n",
       "\n",
       "    .dataframe thead th {\n",
       "        text-align: right;\n",
       "    }\n",
       "</style>\n",
       "<table border=\"1\" class=\"dataframe\">\n",
       "  <thead>\n",
       "    <tr style=\"text-align: right;\">\n",
       "      <th></th>\n",
       "      <th>art</th>\n",
       "      <th>loc</th>\n",
       "      <th>tag</th>\n",
       "      <th>dt</th>\n",
       "      <th>type</th>\n",
       "      <th>os</th>\n",
       "      <th>lt</th>\n",
       "      <th>make</th>\n",
       "      <th>client</th>\n",
       "      <th>city</th>\n",
       "      <th>lang</th>\n",
       "      <th>cl</th>\n",
       "      <th>label</th>\n",
       "    </tr>\n",
       "  </thead>\n",
       "  <tbody>\n",
       "    <tr>\n",
       "      <th>9037056</th>\n",
       "      <td>6cb6aadc</td>\n",
       "      <td>4be84111</td>\n",
       "      <td>95e44e1c</td>\n",
       "      <td>mobile</td>\n",
       "      <td>native</td>\n",
       "      <td>Android</td>\n",
       "      <td>2022-06-10T01:56:49.332Z</td>\n",
       "      <td>Samsung</td>\n",
       "      <td>3234052e</td>\n",
       "      <td>eb1c296c</td>\n",
       "      <td>en</td>\n",
       "      <td>72</td>\n",
       "      <td>0</td>\n",
       "    </tr>\n",
       "    <tr>\n",
       "      <th>1493784</th>\n",
       "      <td>d7ac4cc4</td>\n",
       "      <td>a9346b00</td>\n",
       "      <td>c138f7fa</td>\n",
       "      <td>desktop</td>\n",
       "      <td>native</td>\n",
       "      <td>None</td>\n",
       "      <td>2022-06-12T09:32:13.555Z</td>\n",
       "      <td>None</td>\n",
       "      <td>79e89163</td>\n",
       "      <td>aa56ab48</td>\n",
       "      <td>None</td>\n",
       "      <td>467</td>\n",
       "      <td>0</td>\n",
       "    </tr>\n",
       "    <tr>\n",
       "      <th>6637725</th>\n",
       "      <td>9c1ddd84</td>\n",
       "      <td>be4b2f45</td>\n",
       "      <td>6438275c</td>\n",
       "      <td>desktop</td>\n",
       "      <td>native</td>\n",
       "      <td>None</td>\n",
       "      <td>2022-06-07T18:04:11.615Z</td>\n",
       "      <td>None</td>\n",
       "      <td>ae8046da</td>\n",
       "      <td>0cf4e8a7</td>\n",
       "      <td>None</td>\n",
       "      <td>27</td>\n",
       "      <td>0</td>\n",
       "    </tr>\n",
       "    <tr>\n",
       "      <th>1781706</th>\n",
       "      <td>00b396ac</td>\n",
       "      <td>68e476b5</td>\n",
       "      <td>0ed73eeb</td>\n",
       "      <td>desktop</td>\n",
       "      <td>native</td>\n",
       "      <td>None</td>\n",
       "      <td>2022-06-08T10:04:41.808Z</td>\n",
       "      <td>None</td>\n",
       "      <td>ae8046da</td>\n",
       "      <td>None</td>\n",
       "      <td>None</td>\n",
       "      <td>519</td>\n",
       "      <td>0</td>\n",
       "    </tr>\n",
       "    <tr>\n",
       "      <th>17525502</th>\n",
       "      <td>426595c6</td>\n",
       "      <td>5d389f5e</td>\n",
       "      <td>21c6d6a0</td>\n",
       "      <td>mobile</td>\n",
       "      <td>native</td>\n",
       "      <td>AndroidOS</td>\n",
       "      <td>2022-06-11T13:07:09.077Z</td>\n",
       "      <td>GenericPhone</td>\n",
       "      <td>5f96ea9c</td>\n",
       "      <td>ce81d3d8</td>\n",
       "      <td>None</td>\n",
       "      <td>84</td>\n",
       "      <td>0</td>\n",
       "    </tr>\n",
       "  </tbody>\n",
       "</table>\n",
       "</div>"
      ],
      "text/plain": [
       "               art       loc       tag       dt    type         os  \\\n",
       "9037056   6cb6aadc  4be84111  95e44e1c   mobile  native    Android   \n",
       "1493784   d7ac4cc4  a9346b00  c138f7fa  desktop  native       None   \n",
       "6637725   9c1ddd84  be4b2f45  6438275c  desktop  native       None   \n",
       "1781706   00b396ac  68e476b5  0ed73eeb  desktop  native       None   \n",
       "17525502  426595c6  5d389f5e  21c6d6a0   mobile  native  AndroidOS   \n",
       "\n",
       "                                lt          make    client      city  lang  \\\n",
       "9037056   2022-06-10T01:56:49.332Z       Samsung  3234052e  eb1c296c    en   \n",
       "1493784   2022-06-12T09:32:13.555Z          None  79e89163  aa56ab48  None   \n",
       "6637725   2022-06-07T18:04:11.615Z          None  ae8046da  0cf4e8a7  None   \n",
       "1781706   2022-06-08T10:04:41.808Z          None  ae8046da      None  None   \n",
       "17525502  2022-06-11T13:07:09.077Z  GenericPhone  5f96ea9c  ce81d3d8  None   \n",
       "\n",
       "           cl  label  \n",
       "9037056    72      0  \n",
       "1493784   467      0  \n",
       "6637725    27      0  \n",
       "1781706   519      0  \n",
       "17525502   84      0  "
      ]
     },
     "execution_count": 52,
     "metadata": {},
     "output_type": "execute_result"
    }
   ],
   "source": [
    "%load_ext autoreload\n",
    "%autoreload 2\n",
    "import pandas as pd\n",
    "import seaborn as sns\n",
    "import matplotlib.pyplot as plt\n",
    "\n",
    "from utils import *\n",
    "\n",
    "# Load dataset:\n",
    "df = pd.read_feather(\"readpeak_data.feather\")\n",
    "df.head()"
   ]
  },
  {
   "cell_type": "markdown",
   "metadata": {},
   "source": [
    "### 2. Exploratory Data Analysis\n",
    "\n",
    "- Remove Irrelevant Features\n",
    "  - Correlation Analysis: Remove features that are highly correlated with each other (multi-collinearity)\n",
    "  - Feature Importance: Use feature importance techniques to drop features with little predictive power.\n"
   ]
  },
  {
   "cell_type": "code",
   "execution_count": 53,
   "metadata": {},
   "outputs": [
    {
     "name": "stdout",
     "output_type": "stream",
     "text": [
      "Number of duplicates: 113\n"
     ]
    }
   ],
   "source": [
    "# Remove duplicates:\n",
    "print(f\"Number of duplicates: {df.duplicated().sum()}\")\n",
    "df = df.drop_duplicates()"
   ]
  },
  {
   "cell_type": "code",
   "execution_count": 54,
   "metadata": {},
   "outputs": [],
   "source": [
    "# Ensure correct data types:\n",
    "df[\"lt\"] = pd.to_datetime(df[\"lt\"])\n",
    "\n",
    "# Lowercase and strip whitespace all string columns:\n",
    "df = df.apply(lambda s: s.str.strip().str.lower() if s.dtype == str else s)"
   ]
  },
  {
   "cell_type": "code",
   "execution_count": 55,
   "metadata": {},
   "outputs": [],
   "source": [
    "# Normalize \"os\":\n",
    "df[\"os\"] = df[\"os\"].apply(normalize_os)\n",
    "\n",
    "# Normalize \"lang\":\n",
    "df[\"lang\"] = df[\"lang\"].apply(normalize_lang)\n",
    "\n",
    "# Normalize \"make\":\n",
    "df[\"make\"] = df[\"make\"].apply(normalize_make)"
   ]
  },
  {
   "cell_type": "code",
   "execution_count": 64,
   "metadata": {},
   "outputs": [
    {
     "name": "stdout",
     "output_type": "stream",
     "text": [
      "Click data are all non-negative integer\n",
      "Label data are all binary\n"
     ]
    }
   ],
   "source": [
    "# Check data integrity:\n",
    "print(\n",
    "    \"Click data are all non-negative integer\"\n",
    "    if (df[\"cl\"] < 0).sum() == 0\n",
    "    else \"There is negative click data!\"\n",
    ")\n",
    "print(\n",
    "    \"Label data are all binary\"\n",
    "    if df[\"label\"].apply(lambda l: l in [0, 1]).all()\n",
    "    else \"There is non binary label data!\"\n",
    ")"
   ]
  },
  {
   "cell_type": "code",
   "execution_count": 68,
   "metadata": {},
   "outputs": [],
   "source": [
    "df1 = df.loc[df[\"label\"] == 1]"
   ]
  },
  {
   "cell_type": "code",
   "execution_count": 104,
   "metadata": {},
   "outputs": [
    {
     "name": "stdout",
     "output_type": "stream",
     "text": [
      "tag        0.59\n",
      "client     0.59\n",
      "city      33.09\n",
      "os        41.64\n",
      "make      50.46\n",
      "lang      58.39\n",
      "dtype: float64\n"
     ]
    }
   ],
   "source": [
    "# Handle missing data:\n",
    "missing_percentage = (df.isnull().mean() * 100).round(2).sort_values()\n",
    "print(missing_percentage.loc[missing_percentage > 0])"
   ]
  },
  {
   "cell_type": "code",
   "execution_count": 100,
   "metadata": {},
   "outputs": [
    {
     "name": "stderr",
     "output_type": "stream",
     "text": [
      "/home/vinh/Workspaces/readpeak/utils.py:80: UserWarning: set_ticklabels() should only be used with a fixed number of ticks, i.e. after set_ticks() or using a FixedLocator.\n"
     ]
    },
    {
     "data": {
      "image/png": "[encoded data removed]",
      "text/plain": [
       "<Figure size 1000x600 with 1 Axes>"
      ]
     },
     "metadata": {},
     "output_type": "display_data"
    }
   ],
   "source": [
    "barplot(df[\"lang\"].value_counts(dropna=False))"
   ]
  },
  {
   "cell_type": "code",
   "execution_count": 119,
   "metadata": {},
   "outputs": [
    {
     "data": {
      "text/plain": [
       "1"
      ]
     },
     "execution_count": 119,
     "metadata": {},
     "output_type": "execute_result"
    }
   ],
   "source": [
    "[0, 2, 3].index(2)"
   ]
  },
  {
   "cell_type": "code",
   "execution_count": 118,
   "metadata": {},
   "outputs": [
    {
     "name": "stdout",
     "output_type": "stream",
     "text": [
      "[('nb', 27), ('fi', 25), ('sv', 22), ('en', 14), (None, 9), ('es', 1)]\n",
      "[(None, 1), ('fi', 1), ('sv', 1)]\n",
      "[('sv', 45), (None, 27), ('fi', 14), ('en', 8)]\n",
      "[(None, 41), ('sv', 6), ('en', 2)]\n",
      "[('fi', 6506), ('en', 440), ('sv', 76), ('ru', 6), ('et', 6), ('fr', 2), ('de', 2), ('es', 2), ('ar', 1), (None, 1), ('bg', 1)]\n",
      "[('fi', 78690), ('en', 2821), ('sv', 832), ('de', 40), ('et', 24), ('ru', 23), ('es', 18), ('fr', 8), (None, 6), ('nb', 4), ('da', 3), ('th', 3), ('pt', 3), ('ar', 3), ('nl', 2), ('zh', 2), ('it', 2), ('cs', 1), ('fa', 1), ('tr', 1), ('pl', 1)]\n",
      "[('fi', 67674), ('en', 3838), ('ru', 1213), ('sv', 709), ('et', 321), ('ar', 122), ('uk', 111), ('fr', 60), ('tr', 58), ('zh', 55), ('pl', 48), ('es', 38), ('de', 34), (None, 32), ('th', 22), ('hu', 21), ('ko', 16), ('lv', 14), ('bg', 14), ('vi', 12), ('it', 11), ('pt', 9), ('hr', 7), ('nl', 6), ('bs', 6), ('fa', 6), ('sr', 5), ('sk', 4), ('cs', 4), ('id', 4), ('el', 3), ('lt', 3), ('he', 3), ('ja', 3), ('mk', 2), ('sq', 1), ('nb', 1)]\n",
      "[(None, 64), ('nb', 4), ('fi', 2), ('en', 1)]\n",
      "[('sv', 156), ('en', 40), ('fi', 13), (None, 2)]\n",
      "[(None, 3), ('fi', 2)]\n",
      "[(None, 166), ('sv', 44), ('fi', 10), ('en', 8)]\n",
      "[(None, 3), ('sv', 2)]\n",
      "[('fi', 70235), ('en', 1979), ('sv', 566), ('et', 18), ('de', 16), ('ru', 12), (None, 11), ('es', 9), ('zh', 7), ('nb', 6), ('fr', 4), ('tr', 3), ('it', 2), ('ja', 1), ('th', 1), ('ar', 1), ('lv', 1)]\n",
      "[('fi', 2893), ('en', 196), ('sv', 19), ('ru', 3), ('fr', 2), ('lv', 1), ('it', 1), ('et', 1), (None, 1), ('pt', 1)]\n",
      "[('da', 25), ('en', 17), ('fi', 3), ('sv', 2), (None, 2)]\n",
      "[('fi', 9016), ('en', 641), ('sv', 78), ('ru', 7), ('de', 6), ('et', 5), ('nl', 3), ('ar', 2), (None, 2), ('fr', 2), ('es', 1), ('th', 1), ('el', 1), ('tr', 1), ('it', 1)]\n",
      "[('fi', 3004), ('en', 166), ('sv', 22), ('es', 3), ('it', 2), ('ru', 2), ('th', 1), (None, 1), ('ar', 1), ('de', 1), ('he', 1), ('et', 1), ('bs', 1), ('nl', 1)]\n",
      "[('sv', 6390), ('fi', 1092), ('en', 522), (None, 51), ('es', 3), ('nb', 2), ('de', 1), ('da', 1)]\n",
      "[(None, 678), ('sv', 135), ('fi', 7), ('en', 5)]\n",
      "[('fi', 15279), ('en', 1269), ('sv', 49), ('ru', 8), ('de', 8), ('fr', 7), ('es', 7), ('it', 6), ('et', 4), ('nl', 2), (None, 2), ('hi', 1), ('zh', 1), ('th', 1), ('da', 1), ('ja', 1)]\n",
      "[('fi', 6098), ('en', 363), ('sv', 59), ('et', 4), ('ru', 3), ('es', 3), ('pt', 2), (None, 2), ('zh', 1), ('de', 1), ('nb', 1)]\n",
      "[(None, 46), ('da', 2)]\n",
      "[('fi', 285851), ('en', 8401), ('sv', 3520), ('ru', 93), ('et', 74), ('de', 62), ('es', 51), ('fr', 34), ('nb', 22), ('it', 13), ('zh', 8), ('nl', 8), ('ja', 6), ('hu', 5), ('tr', 5), ('ar', 5), (None, 5), ('th', 4), ('pl', 2), ('pt', 2), ('hr', 2), ('da', 2), ('ko', 1), ('lv', 1), ('vi', 1), ('el', 1)]\n",
      "[('fi', 3275), ('en', 380), ('sv', 33), ('de', 5), ('ru', 4), ('zh', 2), ('hu', 1), ('it', 1), ('th', 1), ('pl', 1), ('hr', 1), (None, 1), ('fr', 1), ('es', 1)]\n",
      "[('sv', 3), ('en', 1), (None, 1)]\n",
      "25\n"
     ]
    }
   ],
   "source": [
    "cac = df.groupby(\"loc\")[\"lang\"].agg(lambda x: list(x.value_counts(dropna=False).items()))\n",
    "lon = cac.loc[cac.apply(lambda c: len(c) > 0)]\n",
    "i = 0\n",
    "for l in lon:\n",
    "    l.index()\n",
    "    if any(map(lambda c: c[0] == None, l)) and len(l) > 1:\n",
    "        print(l)\n",
    "        i += 1\n",
    "print(i)"
   ]
  },
  {
   "cell_type": "code",
   "execution_count": 84,
   "metadata": {},
   "outputs": [
    {
     "data": {
      "text/plain": [
       "[('native', 1512066), ('banner', 11161)]"
      ]
     },
     "execution_count": 84,
     "metadata": {},
     "output_type": "execute_result"
    }
   ],
   "source": [
    "list(df[\"type\"].value_counts().items())"
   ]
  },
  {
   "cell_type": "markdown",
   "metadata": {},
   "source": [
    "#### Handle Outliers\n"
   ]
  },
  {
   "cell_type": "code",
   "execution_count": 5,
   "metadata": {},
   "outputs": [
    {
     "name": "stdout",
     "output_type": "stream",
     "text": [
      "Dataset contains 1523340 rows and 13 columns.\n",
      "113\n"
     ]
    }
   ],
   "source": [
    "# Get the shape of the dataset\n",
    "print(f\"Dataset contains {df.shape[0]} rows and {df.shape[1]} columns.\")\n",
    "\n",
    "# Get information about data types and non-null counts\n",
    "print(df.duplicated().sum())"
   ]
  },
  {
   "cell_type": "markdown",
   "metadata": {},
   "source": [
    "### What potential challenges can you identify from the given data? and give a brief explanation how you would address them?\n"
   ]
  },
  {
   "cell_type": "markdown",
   "metadata": {},
   "source": []
  },
  {
   "cell_type": "code",
   "execution_count": null,
   "metadata": {},
   "outputs": [],
   "source": [
    "# write code that imporves the quality of the data"
   ]
  },
  {
   "cell_type": "markdown",
   "metadata": {},
   "source": [
    "# 2. Feature Engineering\n"
   ]
  },
  {
   "cell_type": "markdown",
   "metadata": {},
   "source": [
    "### Create at least two new features from the existing data.\n"
   ]
  },
  {
   "cell_type": "code",
   "execution_count": null,
   "metadata": {},
   "outputs": [],
   "source": [
    "# write your code here"
   ]
  },
  {
   "cell_type": "markdown",
   "metadata": {},
   "source": [
    "#### What new features did you create and why?\n"
   ]
  },
  {
   "cell_type": "markdown",
   "metadata": {},
   "source": []
  },
  {
   "cell_type": "markdown",
   "metadata": {},
   "source": [
    "#### How do you expect these features to improve the performance of a machine learning model?\n"
   ]
  },
  {
   "cell_type": "markdown",
   "metadata": {},
   "source": []
  },
  {
   "cell_type": "markdown",
   "metadata": {},
   "source": [
    "#### What kind of external data could be used to improve the predictive performance of the ML model?\n"
   ]
  },
  {
   "cell_type": "markdown",
   "metadata": {},
   "source": []
  },
  {
   "cell_type": "markdown",
   "metadata": {},
   "source": [
    "# Model selection and building\n"
   ]
  },
  {
   "cell_type": "markdown",
   "metadata": {},
   "source": [
    "### The goal of the model is to predict the likelyhood of a click\n"
   ]
  },
  {
   "cell_type": "markdown",
   "metadata": {},
   "source": [
    "##### Choose at least two different ML models to fit to the data.\n"
   ]
  },
  {
   "cell_type": "code",
   "execution_count": null,
   "metadata": {},
   "outputs": [],
   "source": [
    "# write your code here"
   ]
  },
  {
   "cell_type": "markdown",
   "metadata": {},
   "source": [
    "#### Why did you select these models? What assumptions or characteristics of the dataset influenced your choice?\n"
   ]
  },
  {
   "cell_type": "markdown",
   "metadata": {},
   "source": []
  },
  {
   "cell_type": "markdown",
   "metadata": {},
   "source": [
    "### Given the advertising ecosystem, speed of prediction is crucial. How would you change the selected models with this restraint in mind? Explain your reasoning.\n"
   ]
  },
  {
   "cell_type": "markdown",
   "metadata": {},
   "source": []
  }
 ],
 "metadata": {
  "kernelspec": {
   "display_name": ".venv",
   "language": "python",
   "name": "python3"
  },
  "language_info": {
   "codemirror_mode": {
    "name": "ipython",
    "version": 3
   },
   "file_extension": ".py",
   "mimetype": "text/x-python",
   "name": "python",
   "nbconvert_exporter": "python",
   "pygments_lexer": "ipython3",
   "version": "3.12.3"
  }
 },
 "nbformat": 4,
 "nbformat_minor": 2
}
