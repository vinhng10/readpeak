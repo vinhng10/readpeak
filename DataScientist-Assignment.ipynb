{
 "cells": [
  {
   "cell_type": "markdown",
   "metadata": {},
   "source": [
    "# Data Scientist Assignment\n"
   ]
  },
  {
   "cell_type": "markdown",
   "metadata": {},
   "source": [
    "In this task, you will work with a sample dataset containing ad impression and click data.\n",
    "\n",
    "The primary objective of this assignment is to analyze the data, derive meaningful insights, and build predictive models based on the patterns you uncover, to ultimatly improve click prediction.\n"
   ]
  },
  {
   "cell_type": "markdown",
   "metadata": {},
   "source": [
    "# 0. Data Description\n"
   ]
  },
  {
   "cell_type": "markdown",
   "metadata": {},
   "source": [
    "The dataset provided has been undersampled to ensure that clicks represent 5% of the total data, as opposed to the original 0.4%. It consists of one week of advertising data from Finland where one row represents an ad impression (view). The data includes the following features:\n",
    "\n",
    "- Label: A binary feature indicating whether the ad was clicked (1) or not (0).\n",
    "- art: The ad ID.\n",
    "- loc: The site ID, representing the website where the ad appeared.\n",
    "- tag: The placement ID assigned by the site to indicate the ad slot on the site where the ad was shown.\n",
    "- dt: The device type on which the ad was displayed (mobile, tablet, or desktop).\n",
    "- type: The type of advertisement, either banner or native.\n",
    "- os: The operating system of the device.\n",
    "- lt: The local time when the ad was displayed.\n",
    "- make: The make (manufacturer) of the device.\n",
    "- client: The client ID representing the advertiser.\n",
    "- lang: The language of the browser.\n",
    "- cl: The number of clicks the ad has received.\n"
   ]
  },
  {
   "cell_type": "markdown",
   "metadata": {},
   "source": [
    "## 1. Loading the data & exploration\n"
   ]
  },
  {
   "cell_type": "code",
   "execution_count": 47,
   "metadata": {},
   "outputs": [
    {
     "name": "stdout",
     "output_type": "stream",
     "text": [
      "The autoreload extension is already loaded. To reload it, use:\n",
      "  %reload_ext autoreload\n"
     ]
    },
    {
     "data": {
      "text/html": [
       "<div>\n",
       "<style scoped>\n",
       "    .dataframe tbody tr th:only-of-type {\n",
       "        vertical-align: middle;\n",
       "    }\n",
       "\n",
       "    .dataframe tbody tr th {\n",
       "        vertical-align: top;\n",
       "    }\n",
       "\n",
       "    .dataframe thead th {\n",
       "        text-align: right;\n",
       "    }\n",
       "</style>\n",
       "<table border=\"1\" class=\"dataframe\">\n",
       "  <thead>\n",
       "    <tr style=\"text-align: right;\">\n",
       "      <th></th>\n",
       "      <th>art</th>\n",
       "      <th>loc</th>\n",
       "      <th>tag</th>\n",
       "      <th>dt</th>\n",
       "      <th>type</th>\n",
       "      <th>os</th>\n",
       "      <th>lt</th>\n",
       "      <th>make</th>\n",
       "      <th>client</th>\n",
       "      <th>city</th>\n",
       "      <th>lang</th>\n",
       "      <th>cl</th>\n",
       "      <th>label</th>\n",
       "    </tr>\n",
       "  </thead>\n",
       "  <tbody>\n",
       "    <tr>\n",
       "      <th>9037056</th>\n",
       "      <td>6cb6aadc</td>\n",
       "      <td>4be84111</td>\n",
       "      <td>95e44e1c</td>\n",
       "      <td>mobile</td>\n",
       "      <td>native</td>\n",
       "      <td>Android</td>\n",
       "      <td>2022-06-10T01:56:49.332Z</td>\n",
       "      <td>Samsung</td>\n",
       "      <td>3234052e</td>\n",
       "      <td>eb1c296c</td>\n",
       "      <td>en</td>\n",
       "      <td>72</td>\n",
       "      <td>0</td>\n",
       "    </tr>\n",
       "    <tr>\n",
       "      <th>1493784</th>\n",
       "      <td>d7ac4cc4</td>\n",
       "      <td>a9346b00</td>\n",
       "      <td>c138f7fa</td>\n",
       "      <td>desktop</td>\n",
       "      <td>native</td>\n",
       "      <td>None</td>\n",
       "      <td>2022-06-12T09:32:13.555Z</td>\n",
       "      <td>None</td>\n",
       "      <td>79e89163</td>\n",
       "      <td>aa56ab48</td>\n",
       "      <td>None</td>\n",
       "      <td>467</td>\n",
       "      <td>0</td>\n",
       "    </tr>\n",
       "    <tr>\n",
       "      <th>6637725</th>\n",
       "      <td>9c1ddd84</td>\n",
       "      <td>be4b2f45</td>\n",
       "      <td>6438275c</td>\n",
       "      <td>desktop</td>\n",
       "      <td>native</td>\n",
       "      <td>None</td>\n",
       "      <td>2022-06-07T18:04:11.615Z</td>\n",
       "      <td>None</td>\n",
       "      <td>ae8046da</td>\n",
       "      <td>0cf4e8a7</td>\n",
       "      <td>None</td>\n",
       "      <td>27</td>\n",
       "      <td>0</td>\n",
       "    </tr>\n",
       "    <tr>\n",
       "      <th>1781706</th>\n",
       "      <td>00b396ac</td>\n",
       "      <td>68e476b5</td>\n",
       "      <td>0ed73eeb</td>\n",
       "      <td>desktop</td>\n",
       "      <td>native</td>\n",
       "      <td>None</td>\n",
       "      <td>2022-06-08T10:04:41.808Z</td>\n",
       "      <td>None</td>\n",
       "      <td>ae8046da</td>\n",
       "      <td>None</td>\n",
       "      <td>None</td>\n",
       "      <td>519</td>\n",
       "      <td>0</td>\n",
       "    </tr>\n",
       "    <tr>\n",
       "      <th>17525502</th>\n",
       "      <td>426595c6</td>\n",
       "      <td>5d389f5e</td>\n",
       "      <td>21c6d6a0</td>\n",
       "      <td>mobile</td>\n",
       "      <td>native</td>\n",
       "      <td>AndroidOS</td>\n",
       "      <td>2022-06-11T13:07:09.077Z</td>\n",
       "      <td>GenericPhone</td>\n",
       "      <td>5f96ea9c</td>\n",
       "      <td>ce81d3d8</td>\n",
       "      <td>None</td>\n",
       "      <td>84</td>\n",
       "      <td>0</td>\n",
       "    </tr>\n",
       "  </tbody>\n",
       "</table>\n",
       "</div>"
      ],
      "text/plain": [
       "               art       loc       tag       dt    type         os  \\\n",
       "9037056   6cb6aadc  4be84111  95e44e1c   mobile  native    Android   \n",
       "1493784   d7ac4cc4  a9346b00  c138f7fa  desktop  native       None   \n",
       "6637725   9c1ddd84  be4b2f45  6438275c  desktop  native       None   \n",
       "1781706   00b396ac  68e476b5  0ed73eeb  desktop  native       None   \n",
       "17525502  426595c6  5d389f5e  21c6d6a0   mobile  native  AndroidOS   \n",
       "\n",
       "                                lt          make    client      city  lang  \\\n",
       "9037056   2022-06-10T01:56:49.332Z       Samsung  3234052e  eb1c296c    en   \n",
       "1493784   2022-06-12T09:32:13.555Z          None  79e89163  aa56ab48  None   \n",
       "6637725   2022-06-07T18:04:11.615Z          None  ae8046da  0cf4e8a7  None   \n",
       "1781706   2022-06-08T10:04:41.808Z          None  ae8046da      None  None   \n",
       "17525502  2022-06-11T13:07:09.077Z  GenericPhone  5f96ea9c  ce81d3d8  None   \n",
       "\n",
       "           cl  label  \n",
       "9037056    72      0  \n",
       "1493784   467      0  \n",
       "6637725    27      0  \n",
       "1781706   519      0  \n",
       "17525502   84      0  "
      ]
     },
     "execution_count": 47,
     "metadata": {},
     "output_type": "execute_result"
    }
   ],
   "source": [
    "%load_ext autoreload\n",
    "%autoreload 2\n",
    "import pandas as pd\n",
    "import seaborn as sns\n",
    "import matplotlib.pyplot as plt\n",
    "\n",
    "df = pd.read_feather(\"readpeak_data.feather\")\n",
    "df.head()\n",
    "\n",
    "# write your exploratory code bellow"
   ]
  },
  {
   "cell_type": "markdown",
   "metadata": {},
   "source": [
    "### 2. Exploratory Data Analysis\n",
    "\n",
    "- Remove Irrelevant Features\n",
    "  - Correlation Analysis: Remove features that are highly correlated with each other (multi-collinearity)\n",
    "  - Feature Importance: Use feature importance techniques to drop features with little predictive power.\n"
   ]
  },
  {
   "cell_type": "code",
   "execution_count": 73,
   "metadata": {},
   "outputs": [
    {
     "name": "stdout",
     "output_type": "stream",
     "text": [
      "\n",
      "art        0.00\n",
      "loc        0.00\n",
      "dt         0.00\n",
      "type       0.00\n",
      "lt         0.00\n",
      "cl         0.00\n",
      "label      0.00\n",
      "tag        0.59\n",
      "client     0.59\n",
      "city      33.09\n",
      "os        41.64\n",
      "make      50.46\n",
      "lang      58.39\n",
      "dtype: float64\n"
     ]
    }
   ],
   "source": [
    "# Because the majority of the columns are string -> lowercase for normalization:\n",
    "for col in df[[\"dt\", \"type\", \"os\", \"make\", \"lang\"]].columns:\n",
    "    if df[col].dtype == object:\n",
    "        df[col] = df[col].str.lower()\n",
    "\n",
    "# Check Missing Values:\n",
    "missing_percentage = (df.isna().mean() * 100).round(2).sort_values()\n",
    "print()\n",
    "print(missing_percentage)"
   ]
  },
  {
   "cell_type": "code",
   "execution_count": 45,
   "metadata": {},
   "outputs": [
    {
     "data": {
      "text/plain": [
       "tag       7437\n",
       "client     147\n",
       "city      1732\n",
       "os          17\n",
       "make       115\n",
       "lang        43\n",
       "dtype: int64"
      ]
     },
     "execution_count": 45,
     "metadata": {},
     "output_type": "execute_result"
    }
   ],
   "source": [
    "df.nunique(axis=0, dropna=True)[total_null.index]"
   ]
  },
  {
   "cell_type": "code",
   "execution_count": 72,
   "metadata": {},
   "outputs": [
    {
     "name": "stdout",
     "output_type": "stream",
     "text": [
      "make\n",
      "poco                 175\n",
      "acer                 156\n",
      "doogee               149\n",
      "realme               138\n",
      "tcl                  117\n",
      "                    ... \n",
      "allview                1\n",
      "samsung sm-g950f       1\n",
      "samsung sm-g398fn      1\n",
      "onda                   1\n",
      "agm                    1\n",
      "Name: count, Length: 65, dtype: int64\n"
     ]
    },
    {
     "data": {
      "image/png": "[encoded data removed]",
      "text/plain": [
       "<Figure size 1000x600 with 1 Axes>"
      ]
     },
     "metadata": {},
     "output_type": "display_data"
    }
   ],
   "source": [
    "# Get the counts of unique values in 'column_name'\n",
    "counts = df[\"make\"].value_counts()\n",
    "counts = counts.loc[counts < 200]\n",
    "print(counts)\n",
    "\n",
    "# Plot the distribution\n",
    "plt.figure(figsize=(10, 6))\n",
    "plt.xticks(rotation=90)\n",
    "sns.barplot(x=counts.index, y=counts.values, orient=\"v\")\n",
    "plt.show()"
   ]
  },
  {
   "cell_type": "code",
   "execution_count": 55,
   "metadata": {},
   "outputs": [
    {
     "data": {
      "text/plain": [
       "lang\n",
       "fi       594495\n",
       "en        22997\n",
       "sv        13100\n",
       "ru         1394\n",
       "et          477\n",
       "de          200\n",
       "es          150\n",
       "ar          136\n",
       "fr          122\n",
       "uk          111\n",
       "zh           79\n",
       "tr           70\n",
       "nb           68\n",
       "pl           54\n",
       "it           43\n",
       "sv-SE        39\n",
       "th           35\n",
       "da           35\n",
       "hu           27\n",
       "nl           22\n",
       "lv           18\n",
       "ko           17\n",
       "pt           17\n",
       "vi           15\n",
       "bg           15\n",
       "ja           12\n",
       "fi-FI        12\n",
       "hr           10\n",
       "en-US         8\n",
       "fa            7\n",
       "bs            7\n",
       "el            6\n",
       "sr            5\n",
       "cs            5\n",
       "id            4\n",
       "he            4\n",
       "sk            4\n",
       "lt            3\n",
       "en-GB         2\n",
       "sq            2\n",
       "mk            2\n",
       "hi            1\n",
       "sv-se         1\n",
       "Name: count, dtype: int64"
      ]
     },
     "execution_count": 55,
     "metadata": {},
     "output_type": "execute_result"
    }
   ],
   "source": [
    "counts"
   ]
  },
  {
   "cell_type": "markdown",
   "metadata": {},
   "source": [
    "#### Correct Data Type\n"
   ]
  },
  {
   "cell_type": "markdown",
   "metadata": {},
   "source": [
    "#### Address Inconsistent Data (make, os)\n"
   ]
  },
  {
   "cell_type": "markdown",
   "metadata": {},
   "source": [
    "#### Check Data Integrity (Range / Business Logic Validation)\n"
   ]
  },
  {
   "cell_type": "markdown",
   "metadata": {},
   "source": [
    "#### Remove Duplicates\n"
   ]
  },
  {
   "cell_type": "markdown",
   "metadata": {},
   "source": [
    "#### Handle Outliers\n"
   ]
  },
  {
   "cell_type": "code",
   "execution_count": 6,
   "metadata": {},
   "outputs": [],
   "source": [
    "# Handle missing values:"
   ]
  },
  {
   "cell_type": "code",
   "execution_count": 5,
   "metadata": {},
   "outputs": [
    {
     "name": "stdout",
     "output_type": "stream",
     "text": [
      "Dataset contains 1523340 rows and 13 columns.\n",
      "113\n"
     ]
    }
   ],
   "source": [
    "# Get the shape of the dataset\n",
    "print(f\"Dataset contains {df.shape[0]} rows and {df.shape[1]} columns.\")\n",
    "\n",
    "# Get information about data types and non-null counts\n",
    "print(df.duplicated().sum())"
   ]
  },
  {
   "cell_type": "markdown",
   "metadata": {},
   "source": [
    "### What potential challenges can you identify from the given data? and give a brief explanation how you would address them?\n"
   ]
  },
  {
   "cell_type": "markdown",
   "metadata": {},
   "source": []
  },
  {
   "cell_type": "code",
   "execution_count": null,
   "metadata": {},
   "outputs": [],
   "source": [
    "# write code that imporves the quality of the data"
   ]
  },
  {
   "cell_type": "markdown",
   "metadata": {},
   "source": [
    "# 2. Feature Engineering\n"
   ]
  },
  {
   "cell_type": "markdown",
   "metadata": {},
   "source": [
    "### Create at least two new features from the existing data.\n"
   ]
  },
  {
   "cell_type": "code",
   "execution_count": null,
   "metadata": {},
   "outputs": [],
   "source": [
    "# write your code here"
   ]
  },
  {
   "cell_type": "markdown",
   "metadata": {},
   "source": [
    "#### What new features did you create and why?\n"
   ]
  },
  {
   "cell_type": "markdown",
   "metadata": {},
   "source": []
  },
  {
   "cell_type": "markdown",
   "metadata": {},
   "source": [
    "#### How do you expect these features to improve the performance of a machine learning model?\n"
   ]
  },
  {
   "cell_type": "markdown",
   "metadata": {},
   "source": []
  },
  {
   "cell_type": "markdown",
   "metadata": {},
   "source": [
    "#### What kind of external data could be used to improve the predictive performance of the ML model?\n"
   ]
  },
  {
   "cell_type": "markdown",
   "metadata": {},
   "source": []
  },
  {
   "cell_type": "markdown",
   "metadata": {},
   "source": [
    "# Model selection and building\n"
   ]
  },
  {
   "cell_type": "markdown",
   "metadata": {},
   "source": [
    "### The goal of the model is to predict the likelyhood of a click\n"
   ]
  },
  {
   "cell_type": "markdown",
   "metadata": {},
   "source": [
    "##### Choose at least two different ML models to fit to the data.\n"
   ]
  },
  {
   "cell_type": "code",
   "execution_count": null,
   "metadata": {},
   "outputs": [],
   "source": [
    "# write your code here"
   ]
  },
  {
   "cell_type": "markdown",
   "metadata": {},
   "source": [
    "#### Why did you select these models? What assumptions or characteristics of the dataset influenced your choice?\n"
   ]
  },
  {
   "cell_type": "markdown",
   "metadata": {},
   "source": []
  },
  {
   "cell_type": "markdown",
   "metadata": {},
   "source": [
    "### Given the advertising ecosystem, speed of prediction is crucial. How would you change the selected models with this restraint in mind? Explain your reasoning.\n"
   ]
  },
  {
   "cell_type": "markdown",
   "metadata": {},
   "source": []
  }
 ],
 "metadata": {
  "kernelspec": {
   "display_name": ".venv",
   "language": "python",
   "name": "python3"
  },
  "language_info": {
   "codemirror_mode": {
    "name": "ipython",
    "version": 3
   },
   "file_extension": ".py",
   "mimetype": "text/x-python",
   "name": "python",
   "nbconvert_exporter": "python",
   "pygments_lexer": "ipython3",
   "version": "3.12.3"
  }
 },
 "nbformat": 4,
 "nbformat_minor": 2
}
