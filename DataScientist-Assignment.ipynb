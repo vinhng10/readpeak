{
 "cells": [
  {
   "cell_type": "markdown",
   "metadata": {},
   "source": [
    "# Data Scientist Assignment\n"
   ]
  },
  {
   "cell_type": "markdown",
   "metadata": {},
   "source": [
    "In this task, you will work with a sample dataset containing ad impression and click data.\n",
    "\n",
    "The primary objective of this assignment is to analyze the data, derive meaningful insights, and build predictive models based on the patterns you uncover, to ultimatly improve click prediction.\n"
   ]
  },
  {
   "cell_type": "markdown",
   "metadata": {},
   "source": [
    "# 0. Data Description\n"
   ]
  },
  {
   "cell_type": "markdown",
   "metadata": {},
   "source": [
    "The dataset provided has been undersampled to ensure that clicks represent 5% of the total data, as opposed to the original 0.4%. It consists of one week of advertising data from Finland where one row represents an ad impression (view). The data includes the following features:\n",
    "\n",
    "- Label: A binary feature indicating whether the ad was clicked (1) or not (0).\n",
    "- art: The ad ID.\n",
    "- loc: The site ID, representing the website where the ad appeared.\n",
    "- tag: The placement ID assigned by the site to indicate the ad slot on the site where the ad was shown.\n",
    "- dt: The device type on which the ad was displayed (mobile, tablet, or desktop).\n",
    "- type: The type of advertisement, either banner or native.\n",
    "- os: The operating system of the device.\n",
    "- lt: The local time when the ad was displayed.\n",
    "- make: The make (manufacturer) of the device.\n",
    "- client: The client ID representing the advertiser.\n",
    "- lang: The language of the browser.\n",
    "- cl: The number of clicks the ad has received.\n"
   ]
  },
  {
   "cell_type": "markdown",
   "metadata": {},
   "source": [
    "## 1. Loading the data & exploration\n"
   ]
  },
  {
   "cell_type": "code",
   "execution_count": 60,
   "metadata": {},
   "outputs": [
    {
     "name": "stdout",
     "output_type": "stream",
     "text": [
      "The autoreload extension is already loaded. To reload it, use:\n",
      "  %reload_ext autoreload\n"
     ]
    },
    {
     "data": {
      "text/html": [
       "<div>\n",
       "<style scoped>\n",
       "    .dataframe tbody tr th:only-of-type {\n",
       "        vertical-align: middle;\n",
       "    }\n",
       "\n",
       "    .dataframe tbody tr th {\n",
       "        vertical-align: top;\n",
       "    }\n",
       "\n",
       "    .dataframe thead th {\n",
       "        text-align: right;\n",
       "    }\n",
       "</style>\n",
       "<table border=\"1\" class=\"dataframe\">\n",
       "  <thead>\n",
       "    <tr style=\"text-align: right;\">\n",
       "      <th></th>\n",
       "      <th>art</th>\n",
       "      <th>loc</th>\n",
       "      <th>tag</th>\n",
       "      <th>dt</th>\n",
       "      <th>type</th>\n",
       "      <th>os</th>\n",
       "      <th>lt</th>\n",
       "      <th>make</th>\n",
       "      <th>client</th>\n",
       "      <th>city</th>\n",
       "      <th>lang</th>\n",
       "      <th>cl</th>\n",
       "      <th>label</th>\n",
       "    </tr>\n",
       "  </thead>\n",
       "  <tbody>\n",
       "    <tr>\n",
       "      <th>9037056</th>\n",
       "      <td>6cb6aadc</td>\n",
       "      <td>4be84111</td>\n",
       "      <td>95e44e1c</td>\n",
       "      <td>mobile</td>\n",
       "      <td>native</td>\n",
       "      <td>Android</td>\n",
       "      <td>2022-06-10T01:56:49.332Z</td>\n",
       "      <td>Samsung</td>\n",
       "      <td>3234052e</td>\n",
       "      <td>eb1c296c</td>\n",
       "      <td>en</td>\n",
       "      <td>72</td>\n",
       "      <td>0</td>\n",
       "    </tr>\n",
       "    <tr>\n",
       "      <th>1493784</th>\n",
       "      <td>d7ac4cc4</td>\n",
       "      <td>a9346b00</td>\n",
       "      <td>c138f7fa</td>\n",
       "      <td>desktop</td>\n",
       "      <td>native</td>\n",
       "      <td>None</td>\n",
       "      <td>2022-06-12T09:32:13.555Z</td>\n",
       "      <td>None</td>\n",
       "      <td>79e89163</td>\n",
       "      <td>aa56ab48</td>\n",
       "      <td>None</td>\n",
       "      <td>467</td>\n",
       "      <td>0</td>\n",
       "    </tr>\n",
       "    <tr>\n",
       "      <th>6637725</th>\n",
       "      <td>9c1ddd84</td>\n",
       "      <td>be4b2f45</td>\n",
       "      <td>6438275c</td>\n",
       "      <td>desktop</td>\n",
       "      <td>native</td>\n",
       "      <td>None</td>\n",
       "      <td>2022-06-07T18:04:11.615Z</td>\n",
       "      <td>None</td>\n",
       "      <td>ae8046da</td>\n",
       "      <td>0cf4e8a7</td>\n",
       "      <td>None</td>\n",
       "      <td>27</td>\n",
       "      <td>0</td>\n",
       "    </tr>\n",
       "    <tr>\n",
       "      <th>1781706</th>\n",
       "      <td>00b396ac</td>\n",
       "      <td>68e476b5</td>\n",
       "      <td>0ed73eeb</td>\n",
       "      <td>desktop</td>\n",
       "      <td>native</td>\n",
       "      <td>None</td>\n",
       "      <td>2022-06-08T10:04:41.808Z</td>\n",
       "      <td>None</td>\n",
       "      <td>ae8046da</td>\n",
       "      <td>None</td>\n",
       "      <td>None</td>\n",
       "      <td>519</td>\n",
       "      <td>0</td>\n",
       "    </tr>\n",
       "    <tr>\n",
       "      <th>17525502</th>\n",
       "      <td>426595c6</td>\n",
       "      <td>5d389f5e</td>\n",
       "      <td>21c6d6a0</td>\n",
       "      <td>mobile</td>\n",
       "      <td>native</td>\n",
       "      <td>AndroidOS</td>\n",
       "      <td>2022-06-11T13:07:09.077Z</td>\n",
       "      <td>GenericPhone</td>\n",
       "      <td>5f96ea9c</td>\n",
       "      <td>ce81d3d8</td>\n",
       "      <td>None</td>\n",
       "      <td>84</td>\n",
       "      <td>0</td>\n",
       "    </tr>\n",
       "  </tbody>\n",
       "</table>\n",
       "</div>"
      ],
      "text/plain": [
       "               art       loc       tag       dt    type         os  \\\n",
       "9037056   6cb6aadc  4be84111  95e44e1c   mobile  native    Android   \n",
       "1493784   d7ac4cc4  a9346b00  c138f7fa  desktop  native       None   \n",
       "6637725   9c1ddd84  be4b2f45  6438275c  desktop  native       None   \n",
       "1781706   00b396ac  68e476b5  0ed73eeb  desktop  native       None   \n",
       "17525502  426595c6  5d389f5e  21c6d6a0   mobile  native  AndroidOS   \n",
       "\n",
       "                                lt          make    client      city  lang  \\\n",
       "9037056   2022-06-10T01:56:49.332Z       Samsung  3234052e  eb1c296c    en   \n",
       "1493784   2022-06-12T09:32:13.555Z          None  79e89163  aa56ab48  None   \n",
       "6637725   2022-06-07T18:04:11.615Z          None  ae8046da  0cf4e8a7  None   \n",
       "1781706   2022-06-08T10:04:41.808Z          None  ae8046da      None  None   \n",
       "17525502  2022-06-11T13:07:09.077Z  GenericPhone  5f96ea9c  ce81d3d8  None   \n",
       "\n",
       "           cl  label  \n",
       "9037056    72      0  \n",
       "1493784   467      0  \n",
       "6637725    27      0  \n",
       "1781706   519      0  \n",
       "17525502   84      0  "
      ]
     },
     "execution_count": 60,
     "metadata": {},
     "output_type": "execute_result"
    }
   ],
   "source": [
    "%load_ext autoreload\n",
    "%autoreload 2\n",
    "import pandas as pd\n",
    "import seaborn as sns\n",
    "import matplotlib.pyplot as plt\n",
    "\n",
    "from utils import *\n",
    "\n",
    "# Load dataset:\n",
    "df = pd.read_feather(\"readpeak_data.feather\")\n",
    "df.head()"
   ]
  },
  {
   "cell_type": "markdown",
   "metadata": {},
   "source": [
    "### 2. Exploratory Data Analysis\n",
    "\n",
    "- Remove Irrelevant Features\n",
    "  - Correlation Analysis: Remove features that are highly correlated with each other (multi-collinearity)\n",
    "  - Feature Importance: Use feature importance techniques to drop features with little predictive power.\n"
   ]
  },
  {
   "cell_type": "code",
   "execution_count": 61,
   "metadata": {},
   "outputs": [
    {
     "name": "stdout",
     "output_type": "stream",
     "text": [
      "Number of duplicates: 113\n"
     ]
    }
   ],
   "source": [
    "# Remove duplicates:\n",
    "print(f\"Number of duplicates: {df.duplicated().sum()}\")\n",
    "df = df.drop_duplicates()"
   ]
  },
  {
   "cell_type": "code",
   "execution_count": 62,
   "metadata": {},
   "outputs": [],
   "source": [
    "# Ensure correct data types:\n",
    "df[\"lt\"] = pd.to_datetime(df[\"lt\"])\n",
    "\n",
    "# Lowercase and strip whitespace all string columns:\n",
    "df[[\"dt\", \"type\", \"os\", \"make\", \"lang\"]] = df[\n",
    "    [\"dt\", \"type\", \"os\", \"make\", \"lang\"]\n",
    "].apply(lambda s: s.str.strip().str.lower())"
   ]
  },
  {
   "cell_type": "code",
   "execution_count": 63,
   "metadata": {},
   "outputs": [],
   "source": [
    "# Normalize \"os\":\n",
    "df[\"os\"] = df[\"os\"].apply(normalize_os)\n",
    "\n",
    "# Normalize \"lang\":\n",
    "df[\"lang\"] = df[\"lang\"].apply(lambda l: l.split(\"-\")[0] if l else None)\n",
    "\n",
    "# Normalize \"make\":\n",
    "df[\"make\"] = df[\"make\"].apply(normalize_make)"
   ]
  },
  {
   "cell_type": "code",
   "execution_count": 64,
   "metadata": {},
   "outputs": [
    {
     "name": "stderr",
     "output_type": "stream",
     "text": [
      "/workspaces/readpeak/utils.py:76: UserWarning: set_ticklabels() should only be used with a fixed number of ticks, i.e. after set_ticks() or using a FixedLocator.\n"
     ]
    },
    {
     "data": {
      "image/png": "[encoded data removed]",
      "text/plain": [
       "<Figure size 2000x400 with 1 Axes>"
      ]
     },
     "metadata": {},
     "output_type": "display_data"
    }
   ],
   "source": [
    "from utils import *\n",
    "\n",
    "# barplot(df.drop(\"lt\", axis=1).nunique())\n",
    "counts = df[\"make\"].value_counts()\n",
    "barplot(counts, figsize=(20, 4))"
   ]
  },
  {
   "cell_type": "code",
   "execution_count": 65,
   "metadata": {},
   "outputs": [
    {
     "name": "stdout",
     "output_type": "stream",
     "text": [
      "tag        0.59\n",
      "client     0.59\n",
      "city      33.09\n",
      "os        41.64\n",
      "make      50.46\n",
      "lang      58.39\n",
      "dtype: float64\n"
     ]
    }
   ],
   "source": [
    "# Check Missing Values:\n",
    "missing_percentage = (df.isnull().mean() * 100).round(2).sort_values()\n",
    "print(missing_percentage.loc[missing_percentage > 0])"
   ]
  },
  {
   "cell_type": "markdown",
   "metadata": {},
   "source": [
    "#### Correct Data Type\n"
   ]
  },
  {
   "cell_type": "markdown",
   "metadata": {},
   "source": [
    "#### Address Inconsistent Data (make, os)\n"
   ]
  },
  {
   "cell_type": "markdown",
   "metadata": {},
   "source": [
    "#### Check Data Integrity (Range / Business Logic Validation)\n"
   ]
  },
  {
   "cell_type": "markdown",
   "metadata": {},
   "source": [
    "#### Handle Outliers\n"
   ]
  },
  {
   "cell_type": "code",
   "execution_count": 6,
   "metadata": {},
   "outputs": [],
   "source": [
    "# Handle missing values:"
   ]
  },
  {
   "cell_type": "code",
   "execution_count": 5,
   "metadata": {},
   "outputs": [
    {
     "name": "stdout",
     "output_type": "stream",
     "text": [
      "Dataset contains 1523340 rows and 13 columns.\n",
      "113\n"
     ]
    }
   ],
   "source": [
    "# Get the shape of the dataset\n",
    "print(f\"Dataset contains {df.shape[0]} rows and {df.shape[1]} columns.\")\n",
    "\n",
    "# Get information about data types and non-null counts\n",
    "print(df.duplicated().sum())"
   ]
  },
  {
   "cell_type": "markdown",
   "metadata": {},
   "source": [
    "### What potential challenges can you identify from the given data? and give a brief explanation how you would address them?\n"
   ]
  },
  {
   "cell_type": "markdown",
   "metadata": {},
   "source": []
  },
  {
   "cell_type": "code",
   "execution_count": null,
   "metadata": {},
   "outputs": [],
   "source": [
    "# write code that imporves the quality of the data"
   ]
  },
  {
   "cell_type": "markdown",
   "metadata": {},
   "source": [
    "# 2. Feature Engineering\n"
   ]
  },
  {
   "cell_type": "markdown",
   "metadata": {},
   "source": [
    "### Create at least two new features from the existing data.\n"
   ]
  },
  {
   "cell_type": "code",
   "execution_count": null,
   "metadata": {},
   "outputs": [],
   "source": [
    "# write your code here"
   ]
  },
  {
   "cell_type": "markdown",
   "metadata": {},
   "source": [
    "#### What new features did you create and why?\n"
   ]
  },
  {
   "cell_type": "markdown",
   "metadata": {},
   "source": []
  },
  {
   "cell_type": "markdown",
   "metadata": {},
   "source": [
    "#### How do you expect these features to improve the performance of a machine learning model?\n"
   ]
  },
  {
   "cell_type": "markdown",
   "metadata": {},
   "source": []
  },
  {
   "cell_type": "markdown",
   "metadata": {},
   "source": [
    "#### What kind of external data could be used to improve the predictive performance of the ML model?\n"
   ]
  },
  {
   "cell_type": "markdown",
   "metadata": {},
   "source": []
  },
  {
   "cell_type": "markdown",
   "metadata": {},
   "source": [
    "# Model selection and building\n"
   ]
  },
  {
   "cell_type": "markdown",
   "metadata": {},
   "source": [
    "### The goal of the model is to predict the likelyhood of a click\n"
   ]
  },
  {
   "cell_type": "markdown",
   "metadata": {},
   "source": [
    "##### Choose at least two different ML models to fit to the data.\n"
   ]
  },
  {
   "cell_type": "code",
   "execution_count": null,
   "metadata": {},
   "outputs": [],
   "source": [
    "# write your code here"
   ]
  },
  {
   "cell_type": "markdown",
   "metadata": {},
   "source": [
    "#### Why did you select these models? What assumptions or characteristics of the dataset influenced your choice?\n"
   ]
  },
  {
   "cell_type": "markdown",
   "metadata": {},
   "source": []
  },
  {
   "cell_type": "markdown",
   "metadata": {},
   "source": [
    "### Given the advertising ecosystem, speed of prediction is crucial. How would you change the selected models with this restraint in mind? Explain your reasoning.\n"
   ]
  },
  {
   "cell_type": "markdown",
   "metadata": {},
   "source": []
  }
 ],
 "metadata": {
  "kernelspec": {
   "display_name": ".venv",
   "language": "python",
   "name": "python3"
  },
  "language_info": {
   "codemirror_mode": {
    "name": "ipython",
    "version": 3
   },
   "file_extension": ".py",
   "mimetype": "text/x-python",
   "name": "python",
   "nbconvert_exporter": "python",
   "pygments_lexer": "ipython3",
   "version": "3.11.8"
  }
 },
 "nbformat": 4,
 "nbformat_minor": 2
}
