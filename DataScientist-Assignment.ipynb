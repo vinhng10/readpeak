{
 "cells": [
  {
   "cell_type": "markdown",
   "metadata": {},
   "source": [
    "# Data Scientist Assignment\n"
   ]
  },
  {
   "cell_type": "markdown",
   "metadata": {},
   "source": [
    "In this task, you will work with a sample dataset containing ad impression and click data.\n",
    "\n",
    "The primary objective of this assignment is to analyze the data, derive meaningful insights, and build predictive models based on the patterns you uncover, to ultimatly improve click prediction.\n"
   ]
  },
  {
   "cell_type": "markdown",
   "metadata": {},
   "source": [
    "# 0. Data Description\n"
   ]
  },
  {
   "cell_type": "markdown",
   "metadata": {},
   "source": [
    "The dataset provided has been undersampled to ensure that clicks represent 5% of the total data, as opposed to the original 0.4%. It consists of one week of advertising data from Finland where one row represents an ad impression (view). The data includes the following features:\n",
    "\n",
    "- Label: A binary feature indicating whether the ad was clicked (1) or not (0).\n",
    "- art: The ad ID.\n",
    "- loc: The site ID, representing the website where the ad appeared.\n",
    "- tag: The placement ID assigned by the site to indicate the ad slot on the site where the ad was shown.\n",
    "- dt: The device type on which the ad was displayed (mobile, tablet, or desktop).\n",
    "- type: The type of advertisement, either banner or native.\n",
    "- os: The operating system of the device.\n",
    "- lt: The local time when the ad was displayed.\n",
    "- make: The make (manufacturer) of the device.\n",
    "- client: The client ID representing the advertiser.\n",
    "- lang: The language of the browser.\n",
    "- cl: The number of clicks the ad has received.\n"
   ]
  },
  {
   "cell_type": "markdown",
   "metadata": {},
   "source": [
    "## 1. Loading the data & exploration\n"
   ]
  },
  {
   "cell_type": "code",
   "execution_count": 1,
   "metadata": {},
   "outputs": [
    {
     "data": {
      "text/html": [
       "<div>\n",
       "<style scoped>\n",
       "    .dataframe tbody tr th:only-of-type {\n",
       "        vertical-align: middle;\n",
       "    }\n",
       "\n",
       "    .dataframe tbody tr th {\n",
       "        vertical-align: top;\n",
       "    }\n",
       "\n",
       "    .dataframe thead th {\n",
       "        text-align: right;\n",
       "    }\n",
       "</style>\n",
       "<table border=\"1\" class=\"dataframe\">\n",
       "  <thead>\n",
       "    <tr style=\"text-align: right;\">\n",
       "      <th></th>\n",
       "      <th>art</th>\n",
       "      <th>loc</th>\n",
       "      <th>tag</th>\n",
       "      <th>dt</th>\n",
       "      <th>type</th>\n",
       "      <th>os</th>\n",
       "      <th>lt</th>\n",
       "      <th>make</th>\n",
       "      <th>client</th>\n",
       "      <th>city</th>\n",
       "      <th>lang</th>\n",
       "      <th>cl</th>\n",
       "      <th>label</th>\n",
       "    </tr>\n",
       "  </thead>\n",
       "  <tbody>\n",
       "    <tr>\n",
       "      <th>9037056</th>\n",
       "      <td>6cb6aadc</td>\n",
       "      <td>4be84111</td>\n",
       "      <td>95e44e1c</td>\n",
       "      <td>mobile</td>\n",
       "      <td>native</td>\n",
       "      <td>Android</td>\n",
       "      <td>2022-06-10T01:56:49.332Z</td>\n",
       "      <td>Samsung</td>\n",
       "      <td>3234052e</td>\n",
       "      <td>eb1c296c</td>\n",
       "      <td>en</td>\n",
       "      <td>72</td>\n",
       "      <td>0</td>\n",
       "    </tr>\n",
       "    <tr>\n",
       "      <th>1493784</th>\n",
       "      <td>d7ac4cc4</td>\n",
       "      <td>a9346b00</td>\n",
       "      <td>c138f7fa</td>\n",
       "      <td>desktop</td>\n",
       "      <td>native</td>\n",
       "      <td>None</td>\n",
       "      <td>2022-06-12T09:32:13.555Z</td>\n",
       "      <td>None</td>\n",
       "      <td>79e89163</td>\n",
       "      <td>aa56ab48</td>\n",
       "      <td>None</td>\n",
       "      <td>467</td>\n",
       "      <td>0</td>\n",
       "    </tr>\n",
       "    <tr>\n",
       "      <th>6637725</th>\n",
       "      <td>9c1ddd84</td>\n",
       "      <td>be4b2f45</td>\n",
       "      <td>6438275c</td>\n",
       "      <td>desktop</td>\n",
       "      <td>native</td>\n",
       "      <td>None</td>\n",
       "      <td>2022-06-07T18:04:11.615Z</td>\n",
       "      <td>None</td>\n",
       "      <td>ae8046da</td>\n",
       "      <td>0cf4e8a7</td>\n",
       "      <td>None</td>\n",
       "      <td>27</td>\n",
       "      <td>0</td>\n",
       "    </tr>\n",
       "    <tr>\n",
       "      <th>1781706</th>\n",
       "      <td>00b396ac</td>\n",
       "      <td>68e476b5</td>\n",
       "      <td>0ed73eeb</td>\n",
       "      <td>desktop</td>\n",
       "      <td>native</td>\n",
       "      <td>None</td>\n",
       "      <td>2022-06-08T10:04:41.808Z</td>\n",
       "      <td>None</td>\n",
       "      <td>ae8046da</td>\n",
       "      <td>None</td>\n",
       "      <td>None</td>\n",
       "      <td>519</td>\n",
       "      <td>0</td>\n",
       "    </tr>\n",
       "    <tr>\n",
       "      <th>17525502</th>\n",
       "      <td>426595c6</td>\n",
       "      <td>5d389f5e</td>\n",
       "      <td>21c6d6a0</td>\n",
       "      <td>mobile</td>\n",
       "      <td>native</td>\n",
       "      <td>AndroidOS</td>\n",
       "      <td>2022-06-11T13:07:09.077Z</td>\n",
       "      <td>GenericPhone</td>\n",
       "      <td>5f96ea9c</td>\n",
       "      <td>ce81d3d8</td>\n",
       "      <td>None</td>\n",
       "      <td>84</td>\n",
       "      <td>0</td>\n",
       "    </tr>\n",
       "  </tbody>\n",
       "</table>\n",
       "</div>"
      ],
      "text/plain": [
       "               art       loc       tag       dt    type         os  \\\n",
       "9037056   6cb6aadc  4be84111  95e44e1c   mobile  native    Android   \n",
       "1493784   d7ac4cc4  a9346b00  c138f7fa  desktop  native       None   \n",
       "6637725   9c1ddd84  be4b2f45  6438275c  desktop  native       None   \n",
       "1781706   00b396ac  68e476b5  0ed73eeb  desktop  native       None   \n",
       "17525502  426595c6  5d389f5e  21c6d6a0   mobile  native  AndroidOS   \n",
       "\n",
       "                                lt          make    client      city  lang  \\\n",
       "9037056   2022-06-10T01:56:49.332Z       Samsung  3234052e  eb1c296c    en   \n",
       "1493784   2022-06-12T09:32:13.555Z          None  79e89163  aa56ab48  None   \n",
       "6637725   2022-06-07T18:04:11.615Z          None  ae8046da  0cf4e8a7  None   \n",
       "1781706   2022-06-08T10:04:41.808Z          None  ae8046da      None  None   \n",
       "17525502  2022-06-11T13:07:09.077Z  GenericPhone  5f96ea9c  ce81d3d8  None   \n",
       "\n",
       "           cl  label  \n",
       "9037056    72      0  \n",
       "1493784   467      0  \n",
       "6637725    27      0  \n",
       "1781706   519      0  \n",
       "17525502   84      0  "
      ]
     },
     "execution_count": 1,
     "metadata": {},
     "output_type": "execute_result"
    }
   ],
   "source": [
    "%load_ext autoreload\n",
    "%autoreload 2\n",
    "import pandas as pd\n",
    "import seaborn as sns\n",
    "import matplotlib.pyplot as plt\n",
    "import warnings\n",
    "import ipywidgets as widgets\n",
    "from IPython.display import display\n",
    "\n",
    "warnings.filterwarnings(\"ignore\")\n",
    "\n",
    "from utils import *\n",
    "\n",
    "N = 15\n",
    "\n",
    "# Load dataset:\n",
    "df = pd.read_feather(\"readpeak_data.feather\")\n",
    "df.head()"
   ]
  },
  {
   "cell_type": "markdown",
   "metadata": {},
   "source": [
    "### 1.1. Data Cleaning\n"
   ]
  },
  {
   "cell_type": "markdown",
   "metadata": {},
   "source": [
    "### What potential challenges can you identify from the given data? and give a brief explanation how you would address them?\n"
   ]
  },
  {
   "cell_type": "markdown",
   "metadata": {},
   "source": [
    "Let's first remove all duplicate data. We can see that there are only 113 duplicated rows, which is very small compared to the total rows.\n"
   ]
  },
  {
   "cell_type": "code",
   "execution_count": 2,
   "metadata": {},
   "outputs": [
    {
     "name": "stdout",
     "output_type": "stream",
     "text": [
      "Number of duplicates: 113 / 1523340\n"
     ]
    }
   ],
   "source": [
    "# Remove duplicates:\n",
    "print(f\"Number of duplicates: {df.duplicated().sum()} / {len(df)}\")\n",
    "df = df.drop_duplicates()"
   ]
  },
  {
   "cell_type": "markdown",
   "metadata": {},
   "source": [
    "Next some light preprocessing:\n",
    "- Convert datetime column **lt** to datetime type.  \n",
    "- For string type columns, lowercase and strip whitespace for them.\n",
    "- Ensure **tag** id is unique across **loc** site, because some sites assign same tag id for total different tags. Probably because they are not aware of each others systems.\n"
   ]
  },
  {
   "cell_type": "code",
   "execution_count": 3,
   "metadata": {},
   "outputs": [],
   "source": [
    "# Ensure correct data types:\n",
    "df[\"lt\"] = pd.to_datetime(df[\"lt\"].map(lambda t: t.split(\".\")[0]))\n",
    "\n",
    "# Lowercase and strip whitespace all string columns:\n",
    "df = df.applymap(lambda s: s.lower().strip() if type(s) == str else s)\n",
    "\n",
    "# Ensure \"tag\" is unique across \"loc\":\n",
    "df[\"tag\"] = df[\"tag\"] + \"-\" + df[\"loc\"]"
   ]
  },
  {
   "cell_type": "markdown",
   "metadata": {},
   "source": [
    "We then normalize some of the columns. In particular:\n",
    "\n",
    "- **os**: Similar os type such as \"apple ios\", \"ipados\", \"ios\" will be normalized to just \"ios\".\n",
    "- **lang**: Language \"en-us\" or \"sv-se\" should be normalized to \"en\" or \"sv\" respectively.\n",
    "- **make**: \"samsungtablet\" or \"huaweitablet\" will have \"tablet\" removed because this information is in **dt** column. Value like \"iphone\", \"mac\", etc will be normalized to \"apple\" because they are all manufactored by \"apple\".\n"
   ]
  },
  {
   "cell_type": "code",
   "execution_count": 7,
   "metadata": {
    "jupyter": {
     "source_hidden": true
    }
   },
   "outputs": [],
   "source": [
    "# Normalize \"os\", \"lang\", and \"make\":\n",
    "df[\"os\"] = df[\"os\"].apply(normalize_os)\n",
    "df[\"lang\"] = df[\"lang\"].apply(normalize_lang)\n",
    "df[\"make\"] = df[\"make\"].apply(normalize_make)"
   ]
  },
  {
   "cell_type": "markdown",
   "metadata": {},
   "source": [
    "Now we will handle missing data. We first plot the percentage of missing values and value frequency distribution for each columns.\n"
   ]
  },
  {
   "cell_type": "code",
   "execution_count": 8,
   "metadata": {
    "jupyter": {
     "source_hidden": true
    }
   },
   "outputs": [
    {
     "data": {
      "image/png": "[encoded data removed]",
      "text/plain": [
       "<Figure size 1000x300 with 1 Axes>"
      ]
     },
     "metadata": {},
     "output_type": "display_data"
    },
    {
     "data": {
      "application/vnd.jupyter.widget-view+json": {
       "model_id": "2cf63a43f31b43c9bc30250b41d86c33",
       "version_major": 2,
       "version_minor": 0
      },
      "text/plain": [
       "Tab(children=(Output(), Output(), Output(), Output(), Output(), Output()), selected_index=0, titles=('lang', '…"
      ]
     },
     "metadata": {},
     "output_type": "display_data"
    }
   ],
   "source": [
    "# Plot percentage of missing data:\n",
    "missings = (df.isnull().mean() * 100).round(2).sort_values(ascending=False)\n",
    "fig, ax = plt.subplots(figsize=(10, 3))\n",
    "ax.set_title(\"Percentage of Missing Data Per Column\")\n",
    "ax.set_xlabel(\"Column\")\n",
    "ax.set_ylabel(\"%\")\n",
    "sns.barplot(x=missings.index, y=missings.values, ax=ax)\n",
    "plt.show()\n",
    "\n",
    "\n",
    "# Plot data distribution:\n",
    "# Create tab widget\n",
    "tab = widgets.Tab()\n",
    "contents = []\n",
    "\n",
    "columns = list(missings.loc[missings > 0].index)\n",
    "for column in columns:\n",
    "    # Create an output widget for each plot\n",
    "    output = widgets.Output()\n",
    "\n",
    "    with output:\n",
    "        fig, ax = plt.subplots(figsize=(10, 3))\n",
    "        sns.countplot(\n",
    "            data=df,\n",
    "            x=column,\n",
    "            order=df[column].value_counts().nlargest(50).index,\n",
    "            ax=ax,\n",
    "        )\n",
    "        ax.set_xticklabels(ax.get_xticklabels(), rotation=90)\n",
    "        ax.set_title(f\"{column.capitalize()} Count\", fontsize=16)\n",
    "        plt.show()\n",
    "\n",
    "    # Append the output widget to the outputs list\n",
    "    contents.append(output)\n",
    "\n",
    "# Set the tab children to the list of outputs\n",
    "tab.children = contents\n",
    "tab.titles = columns\n",
    "\n",
    "# Display the tab widget\n",
    "display(tab)"
   ]
  },
  {
   "cell_type": "markdown",
   "metadata": {},
   "source": [
    "From the plot, we can see that:\n",
    "\n",
    "- Almost 60% of **\"lang\"** are missing, and it's heavily skewed to **fi**. The data are collected in Finland, so it's very likely that the missing values are mostly **fi**. There is also no information about the language of the ads, so imputing those missing values probably won't help much for the prediction -> Drop **lang** column.\n",
    "- **\"make\"** also has large missing percentage. I believe that **os** and **dt** are closely related to **make**. Chi-Square Test for Independence can be used to check it -> Drop **make** column.\n",
    "- **\"os\"**, **\"city\"**, **\"client\"**, **\"tag\"** missing values will be imputed with **unknown**.\n"
   ]
  },
  {
   "cell_type": "code",
   "execution_count": 9,
   "metadata": {
    "jupyter": {
     "source_hidden": true
    }
   },
   "outputs": [],
   "source": [
    "# Drop \"lang\" column:\n",
    "df = df.drop([\"lang\", \"make\"], axis=1)\n",
    "\n",
    "# Impute missing values with \"unknown\":\n",
    "df = df.fillna(\"unknown\")"
   ]
  },
  {
   "cell_type": "code",
   "execution_count": 10,
   "metadata": {
    "jupyter": {
     "source_hidden": true
    }
   },
   "outputs": [],
   "source": [
    "# Reset index:\n",
    "df.reset_index(drop=True, inplace=True)"
   ]
  },
  {
   "cell_type": "markdown",
   "metadata": {},
   "source": [
    "### 1.2 Exploratory Data Analysis\n"
   ]
  },
  {
   "cell_type": "markdown",
   "metadata": {},
   "source": [
    "#### 1.2.1 Total Impressions vs CTR\n",
    "Let's first understand the relationship between the number of impressions of each category and Click Through Rate (% CTR). From the visualization we can see that:\n",
    "\n",
    "- CTRs of categories of **art**, **loc**, **tag**, **client** vary significantly. Some of them even go up to 20%, which might indicate that they are:\n",
    "  - **loc**: site that is very good at showing ads\n",
    "  - **tag**: page that goes very well with ads\n",
    "  - **client**: client that has several successful campaigns\n",
    "  - **art**: ads that is very attractive and performant\n",
    "- CTRs of **dt**, **type**, **os**, **city** doesn't seem to vary much. Those of **city** are even plateau. This might indicate that these columns are not strong predictors for CTR.\n",
    "\n",
    "**Note**: I believe the given data contains only impression that Readpeak bidded successfully. This is not the actually the total impressions that hit Readpeak's system. Won impressions can still be a good proxy of the total incoming impressions though.\n",
    "\n",
    "**CTR Calculation**: Using Bayesian estimation, I calculate CTR by posterior mean of a binomial distribution with beta prior $Beta(\\alpha, \\beta)$. Given the CTR is usually around 0.4%, the formula is:\n",
    "\n",
    "$$\n",
    "CTR = 100 * \\frac{\\alpha + clicks}{\\alpha + \\beta + impressions}, where \\{^{\\alpha = 4}_{\\beta = 996}\n",
    "$$\n"
   ]
  },
  {
   "cell_type": "code",
   "execution_count": 11,
   "metadata": {
    "jupyter": {
     "source_hidden": true
    }
   },
   "outputs": [
    {
     "data": {
      "application/vnd.jupyter.widget-view+json": {
       "model_id": "cbfd0d514f8542ecb575b595e23bc891",
       "version_major": 2,
       "version_minor": 0
      },
      "text/plain": [
       "VBox(children=(HTML(value='<h1>Total Impressions vs CTR</h1>'), Tab(children=(Output(), Output(), Output(), Ou…"
      ]
     },
     "metadata": {},
     "output_type": "display_data"
    }
   ],
   "source": [
    "from utils import *\n",
    "\n",
    "columns = list(df.drop([\"lt\", \"label\", \"cl\"], axis=1).columns)\n",
    "\n",
    "# Create tab widget\n",
    "tab = widgets.Tab()\n",
    "contents = []\n",
    "\n",
    "for i, column in enumerate(columns):\n",
    "    fig = plot_category_vs_ctr(df, column, 50)\n",
    "    output = widgets.Output()\n",
    "    with output:\n",
    "        display(fig)\n",
    "    contents.append(output)\n",
    "\n",
    "# Set the tab children to the list of outputs\n",
    "tab.children = contents\n",
    "tab.titles = columns\n",
    "\n",
    "# Display the tab widget\n",
    "display(widgets.VBox([widgets.HTML(value=\"<h1>Total Impressions vs CTR</h1>\"), tab]))"
   ]
  },
  {
   "cell_type": "markdown",
   "metadata": {},
   "source": [
    "#### NOTICE: The next code block might take a few minutes to finish the visualization. This could be improved by making it renders more lazily.\n",
    "#### 1.2.2 Ads Performance\n",
    "\n",
    "Next let's visualize how and ad's total impressions and performance CTR change over time. Each **art** tab is an ad performance across all **tag**, and also the breakdown of performance per tag id, overall **tag** overall performance and **loc** overall performance. Here are some observations:\n",
    "- Ads tends to have higher CTR in **tag** placements which have higher impression and CTR\n",
    "- Some ads have high CTR, but their CTRs decrease over time. This might indicate that people are less likely to click on the same ads displayed in the same place if they have seen it before.\n",
    "- Some clear seasonal trends in the amount of impressions and CTR from the site and placement. There are more impressions at certain hours than others, especially from 6AM to 12AM. Maybe these sites are newspapers.\n",
    "- Whether a day is weekday or weekend doesn't seem to affect the amount of impressions and CTR.\n",
    "- Some pairs seem to perform consistently whenever the ads are displayed in the same place.\n",
    "\n",
    "From there, I believe that hour of the day, hourly/cumulative impressions/CTR in that hour can be additional features because they inform about the amount of traffic a site or placement receives at a particular time."
   ]
  },
  {
   "cell_type": "code",
   "execution_count": 12,
   "metadata": {},
   "outputs": [
    {
     "data": {
      "application/vnd.jupyter.widget-view+json": {
       "model_id": "f6dce82c2d4c4c6b9dd6bc9b1f360c56",
       "version_major": 2,
       "version_minor": 0
      },
      "text/plain": [
       "VBox(children=(HTML(value='<h1>Overall Ad Performance</h1>'), Tab(children=(VBox(children=(HBox(children=(HBox…"
      ]
     },
     "metadata": {},
     "output_type": "display_data"
    }
   ],
   "source": [
    "from utils import *\n",
    "N = 15\n",
    "\n",
    "# Create a tab widget\n",
    "tab = widgets.Tab()\n",
    "tab_contents = []\n",
    "\n",
    "# # Loop through each 'loc' id and create a tab for each one\n",
    "art_ids = select_for_plot(df, \"art\", N)\n",
    "for art_id in art_ids:\n",
    "    art_content = create_content(df, art_id)\n",
    "\n",
    "    # Create a 'tag' tab for each art id\n",
    "    tag_tab = widgets.Tab()\n",
    "    tag_contents = []\n",
    "\n",
    "    tag_ids = select_for_plot(filter_df(df, {\"art\": art_id}), \"tag\", N)\n",
    "    for tag_id in tag_ids:\n",
    "        tag_content = create_content(df, art_id, tag_id)\n",
    "        tag_contents.append(tag_content)\n",
    "    tag_tab.children = tag_contents\n",
    "    tag_tab.titles = tag_ids\n",
    "\n",
    "    # Add the layout to the tab contents\n",
    "    tab_contents.append(\n",
    "        widgets.VBox(\n",
    "            [\n",
    "                art_content,\n",
    "                widgets.HTML(value=\"<h2>Ad Performance Per Tag</h2>\"),\n",
    "                tag_tab,\n",
    "            ]\n",
    "        )\n",
    "    )\n",
    "\n",
    "# # Set up the tabs in the widget\n",
    "tab.children = tab_contents\n",
    "tab.titles = art_ids\n",
    "\n",
    "# Display the tab widget\n",
    "display(widgets.VBox([widgets.HTML(value=\"<h1>Overall Ad Performance</h1>\"), tab]))"
   ]
  },
  {
   "cell_type": "markdown",
   "metadata": {},
   "source": [
    "# 2. Feature Engineering\n"
   ]
  },
  {
   "cell_type": "markdown",
   "metadata": {},
   "source": [
    "### Create at least two new features from the existing data.\n"
   ]
  },
  {
   "cell_type": "code",
   "execution_count": 15,
   "metadata": {},
   "outputs": [],
   "source": [
    "_df = df.copy(deep=True)"
   ]
  },
  {
   "cell_type": "code",
   "execution_count": 17,
   "metadata": {},
   "outputs": [],
   "source": [
    "# Create \"Hour\" feature:\n",
    "df[\"hour\"] = df[\"lt\"].dt.hour\n",
    "\n",
    "# Create \"Art Cumulative CTR on Tag\" feature:\n",
    "\n",
    "# Create \"Tag Hourly Impression\" feature:\n",
    "\n",
    "# Create \"Tag Hourly CTR\" feature:"
   ]
  },
  {
   "cell_type": "code",
   "execution_count": 20,
   "metadata": {},
   "outputs": [],
   "source": [
    "(\n",
    "    tag_hourly_impressions,\n",
    "    tag_total_impressions,\n",
    "    tag_total_cumulative_impressions,\n",
    "    tag_total_ctr,\n",
    ") = group_df(df, {\"tag\": \"57cc5555-83151157\"}, \"hourly\")"
   ]
  },
  {
   "cell_type": "code",
   "execution_count": 23,
   "metadata": {},
   "outputs": [
    {
     "data": {
      "text/plain": [
       "<Axes: >"
      ]
     },
     "execution_count": 23,
     "metadata": {},
     "output_type": "execute_result"
    },
    {
     "data": {
      "image/png": "[encoded data removed]",
      "text/plain": [
       "<Figure size 640x480 with 1 Axes>"
      ]
     },
     "metadata": {},
     "output_type": "display_data"
    }
   ],
   "source": [
    "tag_total_impressions[\"impressions\"].plot()"
   ]
  },
  {
   "cell_type": "markdown",
   "metadata": {},
   "source": [
    "#### What new features did you create and why?\n"
   ]
  },
  {
   "cell_type": "markdown",
   "metadata": {},
   "source": [
    "From the above analysis, some notable features that worth adding to support click prediction are:\n",
    "\n",
    "- **Hour**: Impressions and CTR seem to correlate well with which hour the impression is at. We can simply compute this from the timestamp of the impression.\n",
    "- **Tag Hourly Impressions** and **Tag Hourly CTR**: Higher overall **tag** impressions and CTR tend to lead to higher **art** CTR. High **tag** impressions but low CTR tend to yield low **art** CTR. Low **tag** impressions and CTR obviously yield low **art** CTR. These features basically tell the overall value of the **tag**. Those of **loc** seem to be not suitable because they provide too coarse information.\n",
    "- **Art-Tag Cumulative CTR**: This tells how the **art** performs on an particular **tag** so far. After some initial impressions, increasing **art** cumulative CTR indicates it is more likely to continue to be clicked.  "
   ]
  },
  {
   "cell_type": "markdown",
   "metadata": {},
   "source": [
    "#### How do you expect these features to improve the performance of a machine learning model?\n"
   ]
  },
  {
   "cell_type": "markdown",
   "metadata": {},
   "source": [
    "#### What kind of external data could be used to improve the predictive performance of the ML model?\n"
   ]
  },
  {
   "cell_type": "markdown",
   "metadata": {},
   "source": []
  },
  {
   "cell_type": "markdown",
   "metadata": {},
   "source": [
    "# Model selection and building\n"
   ]
  },
  {
   "cell_type": "markdown",
   "metadata": {},
   "source": [
    "### The goal of the model is to predict the likelyhood of a click\n"
   ]
  },
  {
   "cell_type": "markdown",
   "metadata": {},
   "source": [
    "##### Choose at least two different ML models to fit to the data.\n"
   ]
  },
  {
   "cell_type": "code",
   "execution_count": 10,
   "metadata": {
    "jupyter": {
     "source_hidden": true
    }
   },
   "outputs": [],
   "source": [
    "# write your code here"
   ]
  },
  {
   "cell_type": "markdown",
   "metadata": {},
   "source": [
    "#### Why did you select these models? What assumptions or characteristics of the dataset influenced your choice?\n"
   ]
  },
  {
   "cell_type": "markdown",
   "metadata": {},
   "source": []
  },
  {
   "cell_type": "markdown",
   "metadata": {},
   "source": [
    "### Given the advertising ecosystem, speed of prediction is crucial. How would you change the selected models with this restraint in mind? Explain your reasoning.\n"
   ]
  },
  {
   "cell_type": "markdown",
   "metadata": {},
   "source": []
  }
 ],
 "metadata": {
  "kernelspec": {
   "display_name": "Python 3 (ipykernel)",
   "language": "python",
   "name": "python3"
  },
  "language_info": {
   "codemirror_mode": {
    "name": "ipython",
    "version": 3
   },
   "file_extension": ".py",
   "mimetype": "text/x-python",
   "name": "python",
   "nbconvert_exporter": "python",
   "pygments_lexer": "ipython3",
   "version": "3.11.8"
  }
 },
 "nbformat": 4,
 "nbformat_minor": 4
}
